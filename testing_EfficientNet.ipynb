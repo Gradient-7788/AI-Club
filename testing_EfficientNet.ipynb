{
 "cells": [
  {
   "cell_type": "code",
   "execution_count": 1,
   "id": "f192666c-64e7-4551-b172-5578664b0f44",
   "metadata": {},
   "outputs": [],
   "source": [
    "import numpy as np\n",
    "import pandas as pd\n",
    "import matplotlib.pyplot as plt\n",
    "import seaborn as sns\n",
    "import torch\n",
    "import tensorflow as tf"
   ]
  },
  {
   "cell_type": "code",
   "execution_count": 3,
   "id": "461cdbae-767c-483a-97c2-9c3dd3a9ca6e",
   "metadata": {},
   "outputs": [
    {
     "name": "stderr",
     "output_type": "stream",
     "text": [
      "WARNING:absl:Compiled the loaded model, but the compiled metrics have yet to be built. `model.compile_metrics` will be empty until you train or evaluate the model.\n"
     ]
    }
   ],
   "source": [
    "from tensorflow.keras.models import load_model\n",
    "\n",
    "model= load_model('EfficientNetB7_Fake_Real_final.h5')"
   ]
  },
  {
   "cell_type": "code",
   "execution_count": 5,
   "id": "17baf9fa-bbc0-4427-8b37-38ea91979c9c",
   "metadata": {},
   "outputs": [
    {
     "name": "stdout",
     "output_type": "stream",
     "text": [
      "Found 20000 images belonging to 2 classes.\n"
     ]
    }
   ],
   "source": [
    "from tensorflow.keras.preprocessing.image import ImageDataGenerator\n",
    "\n",
    "# Create a test data generator\n",
    "test_datagen = ImageDataGenerator(rescale=1./255)  # Normalize pixel values (0-255 to 0-1)\n",
    "\n",
    "# Create the test generator\n",
    "test_generator = test_datagen.flow_from_directory(\n",
    "    '/Users/yeshnavya/Documents/archive_resnet/test',  # Replace with the actual path to your test dataset\n",
    "    target_size=(64, 64),  # Resize images to the input size of the model\n",
    "    batch_size=32,\n",
    "    class_mode='binary',  # Set to 'binary' if you're doing binary classification\n",
    "    shuffle=False  # Important: do not shuffle the test data\n",
    ")\n"
   ]
  },
  {
   "cell_type": "code",
   "execution_count": 7,
   "id": "d2336ac9-b6a9-4256-8bd2-6bb375b1ac87",
   "metadata": {},
   "outputs": [
    {
     "name": "stderr",
     "output_type": "stream",
     "text": [
      "/opt/anaconda3/lib/python3.12/site-packages/keras/src/trainers/data_adapters/py_dataset_adapter.py:122: UserWarning: Your `PyDataset` class should call `super().__init__(**kwargs)` in its constructor. `**kwargs` can include `workers`, `use_multiprocessing`, `max_queue_size`. Do not pass these arguments to `fit()`, as they will be ignored.\n",
      "  self._warn_if_super_not_called()\n"
     ]
    },
    {
     "name": "stdout",
     "output_type": "stream",
     "text": [
      "\u001b[1m625/625\u001b[0m \u001b[32m━━━━━━━━━━━━━━━━━━━━\u001b[0m\u001b[37m\u001b[0m \u001b[1m265s\u001b[0m 415ms/step - accuracy: 0.9527 - loss: 0.3420\n",
      "Test Loss: 0.23843088746070862, Test Accuracy: 0.960099995136261\n"
     ]
    }
   ],
   "source": [
    "# Evaluate the model on the test set\n",
    "results = model.evaluate(test_generator)\n",
    "\n",
    "# Print the test loss and accuracy\n",
    "print(f\"Test Loss: {results[0]}, Test Accuracy: {results[1]}\")\n"
   ]
  },
  {
   "cell_type": "code",
   "execution_count": 26,
   "id": "a74335f1-8439-4a53-8869-fde03e31bb14",
   "metadata": {},
   "outputs": [],
   "source": [
    "from tensorflow.keras.preprocessing import image\n",
    "import numpy as np\n",
    "\n",
    "# Load an image for inference\n",
    "img_path = '/Users/yeshnavya/Documents/archive_resnet/AI_image.jpeg'\n",
    "img = image.load_img(img_path, target_size=(64, 64))  # Resize to the target size used in your model\n",
    "\n",
    "# Convert the image to a numpy array\n",
    "img_array = image.img_to_array(img)\n",
    "\n",
    "# Add batch dimension (as model expects batches of data)\n",
    "img_array = np.expand_dims(img_array, axis=0)\n",
    "\n",
    "# Normalize pixel values\n",
    "img_array /= 255.0  # If the model was trained with pixel values between 0 and 1\n"
   ]
  },
  {
   "cell_type": "code",
   "execution_count": null,
   "id": "b8773bcc-3ef4-4b76-999e-a52ec736ed26",
   "metadata": {},
   "outputs": [],
   "source": [
    "# Make a prediction\n",
    "prediction = model.predict(img_array)\n",
    "\n",
    "if prediction[0] > 0.5:\n",
    "    print(\"Prediction: Real\")\n",
    "else:\n",
    "    print(\"Prediction: AI Generated\")\n",
    "\n",
    "print(prediction)"
   ]
  },
  {
   "cell_type": "code",
   "execution_count": null,
   "id": "98bfedac-e873-4fa8-9c83-a55b3a5be32c",
   "metadata": {},
   "outputs": [],
   "source": []
  }
 ],
 "metadata": {
  "kernelspec": {
   "display_name": "Python 3 (ipykernel)",
   "language": "python",
   "name": "python3"
  },
  "language_info": {
   "codemirror_mode": {
    "name": "ipython",
    "version": 3
   },
   "file_extension": ".py",
   "mimetype": "text/x-python",
   "name": "python",
   "nbconvert_exporter": "python",
   "pygments_lexer": "ipython3",
   "version": "3.12.2"
  }
 },
 "nbformat": 4,
 "nbformat_minor": 5
}
